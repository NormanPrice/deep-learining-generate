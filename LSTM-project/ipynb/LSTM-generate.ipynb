{
 "cells": [
  {
   "cell_type": "code",
   "execution_count": null,
   "metadata": {},
   "outputs": [],
   "source": [
    "!pip install np_utils"
   ]
  },
  {
   "cell_type": "code",
   "execution_count": null,
   "metadata": {},
   "outputs": [],
   "source": [
    "import numpy as np\n",
    "import re\n",
    "from keras.layers import Dense, LSTM, Input, Embedding, Dropout\n",
    "from keras.models import Model, Sequential\n",
    "from keras.optimizers import RMSprop\n",
    "from keras.utils import pad_sequences\n",
    "from keras.preprocessing.text import Tokenizer\n",
    "from keras.callbacks import LambdaCallback\n",
    "import np_utils\n",
    "from keras.models import load_model, save_model\n",
    "from tensorflow.keras.optimizers import Adam\n",
    "import matplotlib as plt"
   ]
  },
  {
   "cell_type": "code",
   "execution_count": null,
   "metadata": {},
   "outputs": [],
   "source": [
    "load_saved_model = True\n",
    "train_model = False\n",
    "seq_length = 20\n",
    "filename = \"/content/drive/MyDrive/rockyou-75.txt\"\n"
   ]
  },
  {
   "cell_type": "code",
   "execution_count": null,
   "metadata": {},
   "outputs": [],
   "source": [
    "with open(filename, encoding='utf-8-sig') as f:\n",
    "    text = f.read().lower().strip()\n",
    "\n",
    "chars = sorted(list(set(text)))\n",
    "total_chars = len(chars)\n",
    "print(\"Unique characters in the text:\", total_chars)\n",
    "\n",
    "char_indices = dict((c, i) for i, c in enumerate(chars))\n",
    "indices_char = dict((i, c) for i, c in enumerate(chars))\n"
   ]
  },
  {
   "cell_type": "code",
   "execution_count": null,
   "metadata": {},
   "outputs": [],
   "source": [
    "X = np.zeros((len(text) - seq_length, seq_length, total_chars), dtype=bool)\n",
    "y = np.zeros((len(text) - seq_length, total_chars), dtype=bool)\n",
    "\n",
    "for i in range(len(text) - seq_length):\n",
    "    for t, char in enumerate(text[i:i + seq_length]):\n",
    "        X[i, t, char_indices[char]] = 1\n",
    "    y[i, char_indices[text[i + seq_length]]] = 1\n"
   ]
  },
  {
   "cell_type": "code",
   "execution_count": null,
   "metadata": {},
   "outputs": [],
   "source": [
    "def sample(preds, temperature=1.0):\n",
    "    preds = np.asarray(preds).astype('float64')\n",
    "    preds = np.log(preds) / temperature\n",
    "    exp_preds = np.exp(preds)\n",
    "    preds = exp_preds / np.sum(exp_preds)\n",
    "    probas = np.random.multinomial(1, preds, 1)\n",
    "    return np.argmax(probas)\n",
    "\n",
    "def generate_text(length, diversity):\n",
    "    start_index = np.random.randint(0, len(text) - seq_length - 1)\n",
    "    sentence = text[start_index: start_index + seq_length]\n",
    "    generated = sentence\n",
    "    for i in range(length):\n",
    "        x_pred = np.zeros((1, seq_length, total_chars))\n",
    "        for t, char in enumerate(sentence):\n",
    "            x_pred[0, t, char_indices[char]] = 1.\n",
    "        preds = model.predict(x_pred, verbose=0)[0]\n",
    "        next_index = sample(preds, diversity)\n",
    "        next_char = indices_char[next_index]\n",
    "        sentence = sentence[1:] + next_char\n",
    "        generated += next_char\n",
    "    return generated\n"
   ]
  },
  {
   "cell_type": "code",
   "execution_count": null,
   "metadata": {},
   "outputs": [],
   "source": [
    "if load_saved_model:\n",
    "    model = load_model('/content/drive/MyDrive/model-saveLSTM.h5')\n",
    "else:\n",
    "    model = Sequential()\n",
    "    model.add(LSTM(256, input_shape=(seq_length, total_chars), return_sequences=True))\n",
    "    model.add(LSTM(512, return_sequences=True))\n",
    "    model.add(LSTM(512))\n",
    "    model.add(Dropout(0.3))\n",
    "    model.add(Dense(512, activation='relu'))\n",
    "    model.add(Dense(total_chars, activation='softmax'))\n",
    "    optimizer = Adam(learning_rate=0.00001)\n",
    "    model.compile(loss='categorical_crossentropy', optimizer=optimizer)\n"
   ]
  },
  {
   "cell_type": "code",
   "execution_count": null,
   "metadata": {},
   "outputs": [],
   "source": [
    "if train_model:\n",
    "    history = model.fit(X, y, batch_size=32, epochs=100)\n",
    "    \n",
    "    model_save_path = '/content/drive/MyDrive/model-saveLSTM.h5'\n",
    "    model.save(model_save_path)\n",
    "    print(f\"Model saved to {model_save_path}\")\n",
    "\n",
    "    plt.plot(history.history['loss'])\n",
    "    plt.title('Model Loss Over Epochs')\n",
    "    plt.ylabel('Loss')\n",
    "    plt.xlabel('Epoch')\n",
    "    loss_plot_path = '/content/drive/MyDrive/model_loss_plot.png'\n",
    "    plt.savefig(loss_plot_path)\n",
    "    print(f\"Loss plot saved to {loss_plot_path}\")\n",
    "    plt.show()\n"
   ]
  },
  {
   "cell_type": "code",
   "execution_count": null,
   "metadata": {},
   "outputs": [],
   "source": [
    "generated_text = generate_text(200, 4)\n",
    "print(generated_text)\n",
    "\n",
    "with open('LSTM-output.txt', 'w') as file:\n",
    "    file.write(generate_text(1000, 0.5))\n"
   ]
  }
 ],
 "metadata": {
  "language_info": {
   "name": "python"
  }
 },
 "nbformat": 4,
 "nbformat_minor": 2
}
